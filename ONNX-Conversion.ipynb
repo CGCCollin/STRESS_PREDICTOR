{
 "cells": [
  {
   "cell_type": "code",
   "execution_count": 19,
   "metadata": {},
   "outputs": [],
   "source": [
    "import torch\n",
    "import torch.nn as nn\n",
    "import torch.nn.functional as F\n",
    "import onnx"
   ]
  },
  {
   "cell_type": "code",
   "execution_count": 20,
   "metadata": {},
   "outputs": [
    {
     "name": "stdout",
     "output_type": "stream",
     "text": [
      "cuda\n",
      "True\n"
     ]
    }
   ],
   "source": [
    "#Check if GPU is available and select if available\n",
    "device = torch.device(\"cuda\" if torch.cuda.is_available() else \"cpu\")\n",
    "print(device)\n",
    "print(torch.cuda.is_available())\n",
    "device = torch.device(\"cuda\")"
   ]
  },
  {
   "cell_type": "code",
   "execution_count": 21,
   "metadata": {},
   "outputs": [],
   "source": [
    "#definining the model\n",
    "#proposed function for stress level S = A*sin(V) where S is stress, A is arousal, and V is valence\n",
    "#since valence represents the positivity of the emotion, it would be inversely proportional to stress as higher valence means a better emotion\n",
    "#Since higher arousal can be generally translated to \n",
    "class StressScanner(torch.nn.Module):\n",
    "    def __init__(self):\n",
    "        super(StressScanner, self).__init__()\n",
    "        self.ConvolutionIn = torch.nn.Conv1d(in_channels=1, out_channels=2,kernel_size=1,padding=0)\n",
    "        self.ConvHidden1 = torch.nn.Conv1d(in_channels=2, out_channels=4,kernel_size=1,padding=0)\n",
    "        self.ConvHidden2 = torch.nn.Conv1d(in_channels=4, out_channels=8,kernel_size=1,padding=0)\n",
    "        self.linear1 = torch.nn.Linear(8, 5)\n",
    "        self.linear2 = torch.nn.Linear(5, 3)\n",
    "        self.linearOut = torch.nn.Linear(3, 1)\n",
    "\n",
    "    def forward(self, x):\n",
    "        x = F.relu(self.ConvolutionIn(x))\n",
    "        x = F.relu(self.ConvHidden1(x))\n",
    "        x = F.relu(self.ConvHidden2(x))\n",
    "        x = x.squeeze()\n",
    "        x = F.relu(self.linear1(x))\n",
    "        x = F.relu(self.linear2(x))\n",
    "        x = self.linearOut(x)\n",
    "        return x"
   ]
  },
  {
   "cell_type": "code",
   "execution_count": 22,
   "metadata": {},
   "outputs": [
    {
     "name": "stdout",
     "output_type": "stream",
     "text": [
      "================ Diagnostic Run torch.onnx.export version 2.0.1 ================\n",
      "verbose: False, log level: Level.ERROR\n",
      "======================= 0 NONE 0 NOTE 0 WARNING 0 ERROR ========================\n",
      "\n"
     ]
    }
   ],
   "source": [
    "#conversion\n",
    "torch_model = StressScanner()\n",
    "model_path = '.\\models\\StressPredictor-2023-10-08_14-11-15.pth'\n",
    "onnx_path = '.\\models\\ONNX-BVP-1.onnx'\n",
    "torch_model.load_state_dict(torch.load(model_path))\n",
    "torch_input = torch.randn(1024, 1, 1)\n",
    "export_output = torch.onnx.export(torch_model, torch_input, onnx_path, verbose=True)\n"
   ]
  },
  {
   "cell_type": "code",
   "execution_count": 23,
   "metadata": {},
   "outputs": [],
   "source": [
    "#verify conversion successful\n",
    "onnx_model = onnx.load(\".\\models\\ONNX-BVP-1.onnx\")\n",
    "onnx.checker.check_model(onnx_model)"
   ]
  },
  {
   "cell_type": "code",
   "execution_count": null,
   "metadata": {},
   "outputs": [],
   "source": [
    "#testing the model with onnx runtime\n"
   ]
  }
 ],
 "metadata": {
  "kernelspec": {
   "display_name": "pygameDL",
   "language": "python",
   "name": "python3"
  },
  "language_info": {
   "codemirror_mode": {
    "name": "ipython",
    "version": 3
   },
   "file_extension": ".py",
   "mimetype": "text/x-python",
   "name": "python",
   "nbconvert_exporter": "python",
   "pygments_lexer": "ipython3",
   "version": "3.11.5"
  }
 },
 "nbformat": 4,
 "nbformat_minor": 2
}
